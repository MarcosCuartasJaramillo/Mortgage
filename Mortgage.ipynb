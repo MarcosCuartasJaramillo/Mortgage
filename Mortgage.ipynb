{
  "nbformat": 4,
  "nbformat_minor": 0,
  "metadata": {
    "colab": {
      "provenance": [],
      "authorship_tag": "ABX9TyMx0CD6xizSq/dK9UO6AUcw",
      "include_colab_link": true
    },
    "kernelspec": {
      "name": "python3",
      "display_name": "Python 3"
    },
    "language_info": {
      "name": "python"
    }
  },
  "cells": [
    {
      "cell_type": "markdown",
      "metadata": {
        "id": "view-in-github",
        "colab_type": "text"
      },
      "source": [
        "<a href=\"https://colab.research.google.com/github/MarcosCuartasJaramillo/Mortgage/blob/main/Mortgage.ipynb\" target=\"_parent\"><img src=\"https://colab.research.google.com/assets/colab-badge.svg\" alt=\"Open In Colab\"/></a>"
      ]
    },
    {
      "cell_type": "code",
      "execution_count": 2,
      "metadata": {
        "id": "FcV_riK9PXIz"
      },
      "outputs": [],
      "source": [
        "class Mortgage:\n",
        "  def __init__(self, initialloan, year, rate):\n",
        "    self.initialloan=initialloan\n",
        "    self.year=year\n",
        "    self.__rate=rate\n",
        "  def __str__(self):\n",
        "    return f'Mortgage: Initial Loan amount: {self.amount} maturity rate {self.year} interestrate {self.__rate}%'\n",
        "\n",
        "  def get_rate(self):\n",
        "    return self.__rate\n",
        "\n",
        "  def set_rate(self, newRate):\n",
        "    if newRate >= 0:\n",
        "      self.__rate=newRate\n",
        "    else:\n",
        "      print('interest must be positive')\n",
        "\n",
        "\n",
        "  def payment(self):\n",
        "    B=self.initialloan\n",
        "    n=self.year*12\n",
        "    r=self.__rate/100/12\n",
        "\n",
        "    return B * (r *(1+r)**n)/((1+r)**n-1)"
      ]
    },
    {
      "cell_type": "code",
      "source": [
        "m = Mortgage(100000,10,6)"
      ],
      "metadata": {
        "id": "fftuRim5PckR"
      },
      "execution_count": 3,
      "outputs": []
    },
    {
      "cell_type": "code",
      "source": [
        "payment = m.payment()\n",
        "print(f\"The monthly payment is: ${payment:.2f}\")"
      ],
      "metadata": {
        "colab": {
          "base_uri": "https://localhost:8080/"
        },
        "id": "k0BBVsguPewm",
        "outputId": "6759b3db-549d-4f94-b058-8a3d0b2b5602"
      },
      "execution_count": 4,
      "outputs": [
        {
          "output_type": "stream",
          "name": "stdout",
          "text": [
            "The monthly payment is: $1110.21\n"
          ]
        }
      ]
    }
  ]
}